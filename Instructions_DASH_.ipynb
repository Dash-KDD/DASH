{
 "cells": [
  {
   "cell_type": "code",
   "execution_count": null,
   "id": "5657b17a",
   "metadata": {},
   "outputs": [],
   "source": [
    "!pip3 install -r requirements.txt"
   ]
  },
  {
   "cell_type": "markdown",
   "id": "54bc1615",
   "metadata": {},
   "source": [
    "## From the original code from Dongbin Na"
   ]
  },
  {
   "cell_type": "markdown",
   "id": "20643a58",
   "metadata": {
    "id": "3XQByno9CIUg"
   },
   "source": [
    "#### <b>Download the Dataset</b>\n",
    "\n",
    "* The dataset contains approximately 13,000 Korean \"human face\" images.\n",
    "* In this dataset, all faces are cropped to a resolution of 128 X 128 pixels, although some of the original images have been high resolution.\n",
    "* Each image filename indicates which family (household) number it belongs to."
   ]
  },
  {
   "cell_type": "code",
   "execution_count": 2,
   "id": "c40da505",
   "metadata": {
    "id": "UWvuBOPACCza",
    "tags": []
   },
   "outputs": [],
   "source": [
    "%%capture\n",
    "!wget https://postechackr-my.sharepoint.com/:u:/g/personal/dongbinna_postech_ac_kr/EbMhBPnmIb5MutZvGicPKggBWKm5hLs0iwKfGW7_TwQIKg?download=1 -O custom_korean_family_dataset_resolution_128.zip\n",
    "!unzip custom_korean_family_dataset_resolution_128.zip -d ./custom_korean_family_dataset_resolution_128"
   ]
  },
  {
   "cell_type": "markdown",
   "id": "6ac92c59",
   "metadata": {
    "id": "SYfIkThKmORe"
   },
   "source": [
    "#### <b>Download the Original Datasets</b>\n",
    "\n",
    "* <b>CelebA-HQ Dataset</b>: A dataset consisting of 30,000 \"human face\" images.\n",
    "    * This dataset has approximately 3GB of data in size and is one of the most widely used face datasets worldwide.\n",
    "* <b>CelebA-HQ Identity Dataset</b>: A dataset that provides information about <b>who the individuals (subjects) are</b> for each facial image file.\n",
    "* <b>CelebA-HQ Attribute Dataset</b>: A dataset that provides attribute information for each facial image file.\n",
    "    * This attribute information includes <b>gender</b>, <b>smiling</b>, and <b>age</b>, which we will be used for a multi-label task."
   ]
  },
  {
   "cell_type": "code",
   "execution_count": 3,
   "id": "614a2356",
   "metadata": {
    "collapsed": true
   },
   "outputs": [
    {
     "name": "stdout",
     "output_type": "stream",
     "text": [
      "--2024-01-17 10:54:18--  https://postechackr-my.sharepoint.com/:u:/g/personal/dongbinna_postech_ac_kr/Eb37jNPPA7hHl0fmktYqcV8B-qmPLx-ZKYQ1eFk4UPBV_A?download=1\n",
      "Resolving postechackr-my.sharepoint.com (postechackr-my.sharepoint.com)... 13.107.136.10, 13.107.138.10, 2620:1ec:8f8::10, ...\n",
      "Connecting to postechackr-my.sharepoint.com (postechackr-my.sharepoint.com)|13.107.136.10|:443... connected.\n",
      "HTTP request sent, awaiting response... 302 Found\n",
      "Location: /personal/dongbinna_postech_ac_kr/Documents/Research/datasets/CelebAMask-HQ/CelebAMask-HQ.zip?ga=1 [following]\n",
      "--2024-01-17 10:54:18--  https://postechackr-my.sharepoint.com/personal/dongbinna_postech_ac_kr/Documents/Research/datasets/CelebAMask-HQ/CelebAMask-HQ.zip?ga=1\n",
      "Reusing existing connection to postechackr-my.sharepoint.com:443.\n",
      "HTTP request sent, awaiting response... 200 OK\n",
      "Length: 3153930546 (2.9G) [application/x-zip-compressed]\n",
      "Saving to: ‘CelebAMask-HQ.zip’\n",
      "\n",
      "CelebAMask-HQ.zip   100%[===================>]   2.94G   123MB/s    in 25s     \n",
      "\n",
      "2024-01-17 10:54:44 (122 MB/s) - ‘CelebAMask-HQ.zip’ saved [3153930546/3153930546]\n",
      "\n",
      "--2024-01-17 10:54:44--  https://postechackr-my.sharepoint.com/:t:/g/personal/dongbinna_postech_ac_kr/EVRoUY8_txRFv56-KWvZrksBDWbD6adkjBxwwRN7qAC6bg?download=1\n",
      "Resolving postechackr-my.sharepoint.com (postechackr-my.sharepoint.com)... 52.107.254.194, 52.107.254.208, 52.107.254.198, ...\n",
      "Connecting to postechackr-my.sharepoint.com (postechackr-my.sharepoint.com)|52.107.254.194|:443... connected.\n",
      "HTTP request sent, awaiting response... 302 \n",
      "Location: /personal/dongbinna_postech_ac_kr/Documents/Research/datasets/CelebAMask-HQ/CelebA-HQ-identity.txt?ga=1 [following]\n",
      "--2024-01-17 10:54:44--  https://postechackr-my.sharepoint.com/personal/dongbinna_postech_ac_kr/Documents/Research/datasets/CelebAMask-HQ/CelebA-HQ-identity.txt?ga=1\n",
      "Reusing existing connection to postechackr-my.sharepoint.com:443.\n",
      "HTTP request sent, awaiting response... 200 OK\n",
      "Length: 427557 (418K) [text/plain]\n",
      "Saving to: ‘CelebA-HQ-identity.txt’\n",
      "\n",
      "CelebA-HQ-identity. 100%[===================>] 417.54K  --.-KB/s    in 0.01s   \n",
      "\n",
      "2024-01-17 10:54:44 (39.1 MB/s) - ‘CelebA-HQ-identity.txt’ saved [427557/427557]\n",
      "\n",
      "--2024-01-17 10:54:44--  https://postechackr-my.sharepoint.com/:t:/g/personal/dongbinna_postech_ac_kr/EVrdIrPOkR1OlEWBVK8lE3AB9bFh741GnKBkNgPa8trNuA?download=1\n",
      "Resolving postechackr-my.sharepoint.com (postechackr-my.sharepoint.com)... 52.107.254.194, 52.107.254.208, 52.107.254.198, ...\n",
      "Connecting to postechackr-my.sharepoint.com (postechackr-my.sharepoint.com)|52.107.254.194|:443... connected.\n",
      "HTTP request sent, awaiting response... 302 \n",
      "Location: /personal/dongbinna_postech_ac_kr/Documents/Research/datasets/CelebAMask-HQ/CelebA-HQ-attribute.txt?ga=1 [following]\n",
      "--2024-01-17 10:54:45--  https://postechackr-my.sharepoint.com/personal/dongbinna_postech_ac_kr/Documents/Research/datasets/CelebAMask-HQ/CelebA-HQ-attribute.txt?ga=1\n",
      "Reusing existing connection to postechackr-my.sharepoint.com:443.\n",
      "HTTP request sent, awaiting response... 200 OK\n",
      "Length: 3622218 (3.5M) [text/plain]\n",
      "Saving to: ‘CelebA-HQ-attribute.txt’\n",
      "\n",
      "CelebA-HQ-attribute 100%[===================>]   3.45M  --.-KB/s    in 0.03s   \n",
      "\n",
      "2024-01-17 10:54:45 (123 MB/s) - ‘CelebA-HQ-attribute.txt’ saved [3622218/3622218]\n",
      "\n"
     ]
    }
   ],
   "source": [
    "!wget https://postechackr-my.sharepoint.com/:u:/g/personal/dongbinna_postech_ac_kr/Eb37jNPPA7hHl0fmktYqcV8B-qmPLx-ZKYQ1eFk4UPBV_A?download=1 -O CelebAMask-HQ.zip\n",
    "!wget https://postechackr-my.sharepoint.com/:t:/g/personal/dongbinna_postech_ac_kr/EVRoUY8_txRFv56-KWvZrksBDWbD6adkjBxwwRN7qAC6bg?download=1 -O CelebA-HQ-identity.txt\n",
    "!wget https://postechackr-my.sharepoint.com/:t:/g/personal/dongbinna_postech_ac_kr/EVrdIrPOkR1OlEWBVK8lE3AB9bFh741GnKBkNgPa8trNuA?download=1 -O CelebA-HQ-attribute.txt"
   ]
  },
  {
   "cell_type": "code",
   "execution_count": 4,
   "id": "403643af",
   "metadata": {
    "id": "Tv6sJXlGmN6v"
   },
   "outputs": [],
   "source": [
    "%%capture\n",
    "!rm -rf ./CelebAMask-HQ\n",
    "!unzip CelebAMask-HQ.zip"
   ]
  },
  {
   "cell_type": "markdown",
   "id": "727504e2",
   "metadata": {},
   "source": [
    "# 1. Creating a pre-trained model"
   ]
  },
  {
   "cell_type": "code",
   "execution_count": null,
   "id": "a39e2e88",
   "metadata": {},
   "outputs": [],
   "source": [
    "!CUDA_VISIBLE_DEVICES='0' python ViTMUL_MUFAC.py \\\n",
    "    --num_epochs 30 \\\n",
    "    --seeds '1' \\\n",
    "    --learning_rate 0.00001 \\\n",
    "    --momentum 0.9 \\\n",
    "    --model_type 'teacher' \\\n",
    "    --optimizer 'adamw' \\\n",
    "    --manual_decay True"
   ]
  },
  {
   "cell_type": "markdown",
   "id": "63d3bfde",
   "metadata": {},
   "source": [
    "# 2. Finetuning with baseline"
   ]
  },
  {
   "cell_type": "code",
   "execution_count": null,
   "id": "6abb8385",
   "metadata": {},
   "outputs": [],
   "source": [
    "!CUDA_VISIBLE_DEVICES='0' python ViTMUL_MUFAC.py \\\n",
    "    --num_epochs 30 \\\n",
    "    --seeds '1' \\\n",
    "    --learning_rate 0.00001 \\\n",
    "    --momentum 0.9 \\\n",
    "    --model_type 'ViT-B-16' \\\n",
    "    --transform 2 \\\n",
    "    --training_type 'finetune' \\\n",
    "    --optimizer 'adamw' \\\n",
    "    --manual_decay True \\\n",
    "    --save_teacher False \\\n",
    "    --checkpoint './MUFAC_ViT-B-16_teacher_seed_1.pth'"
   ]
  },
  {
   "cell_type": "markdown",
   "id": "3e04b500",
   "metadata": {},
   "source": [
    "# 3. Finetuning with DASH"
   ]
  },
  {
   "cell_type": "code",
   "execution_count": null,
   "id": "8c12fa31",
   "metadata": {},
   "outputs": [],
   "source": [
    "!CUDA_VISIBLE_DEVICES='0' python ViTMUL_MUFAC_ER.py \\\n",
    "    --num_epochs 20 \\\n",
    "    --seeds '1' \\\n",
    "    --learning_rate 0.00001 \\\n",
    "    --momentum 0.9 \\\n",
    "    --model_type 'ViT-B-16' \\\n",
    "    --transform 2 \\\n",
    "    --training_type 'finetune' \\\n",
    "    --optimizer 'adamw' \\\n",
    "    --manual_decay True \\\n",
    "    --save_teacher False \\\n",
    "    --checkpoint './MUFAC_ViT-B-16_teacher_seed_1.pth' \\\n",
    "    --DASH_layer 6"
   ]
  }
 ],
 "metadata": {
  "kernelspec": {
   "display_name": "Python 3",
   "language": "python",
   "name": "python3"
  },
  "language_info": {
   "codemirror_mode": {
    "name": "ipython",
    "version": 3
   },
   "file_extension": ".py",
   "mimetype": "text/x-python",
   "name": "python",
   "nbconvert_exporter": "python",
   "pygments_lexer": "ipython3",
   "version": "3.8.8"
  }
 },
 "nbformat": 4,
 "nbformat_minor": 5
}
